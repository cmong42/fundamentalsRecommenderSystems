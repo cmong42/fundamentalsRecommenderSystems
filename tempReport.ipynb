{
 "cells": [
  {
   "cell_type": "markdown",
   "id": "9b5957c4",
   "metadata": {},
   "source": [
    "<h1 style =\"text-align:center\"> CSC 3220-001 </h1>\n",
    "<h2 style =\"text-align:center\"> Exploratory Data Analysis: Netflix Recommender System </h2>\n",
    "<h3 style =\"text-align:center\"> 11/22/2022 </h3>\n",
    "<h4 style =\"text-align:center\"> Antonio Brown </h4>\n",
    "<h4 style =\"text-align:center\"> Cade Kennedy </h4>\n",
    "<h4 style =\"text-align:center\"> Christine Ong </h4>\n",
    "<h4 style =\"text-align:center\"> Daniel Harnden </h4>\n",
    "<h4 style =\"text-align:center\"> Shelby Smith </h4>"
   ]
  },
  {
   "cell_type": "markdown",
   "id": "f1c47470",
   "metadata": {},
   "source": [
    "---"
   ]
  },
  {
   "cell_type": "markdown",
   "id": "4b65da70",
   "metadata": {},
   "source": [
    "# Summary"
   ]
  },
  {
   "cell_type": "markdown",
   "id": "fb7b9cee",
   "metadata": {},
   "source": [
    "In this Exploratory Analysis we will find patterns and relationships to use for reference when creating our Netflix movie recomendation system."
   ]
  },
  {
   "cell_type": "markdown",
   "id": "61bdcb35",
   "metadata": {},
   "source": [
    "# Data Sources"
   ]
  },
  {
   "cell_type": "markdown",
   "id": "392688cf",
   "metadata": {},
   "source": [
    "Below we import the tools we need to work with the data such as:\n",
    "        \n",
    "        - pandas - for data analysis and manipulation\n",
    "        - numpy - for working with arrays\n",
    "        - matplotlib.pyplot - for interactive plots and simple cases of programmatic plot generation\n",
    "        - searborn - for data visualization"
   ]
  },
  {
   "cell_type": "code",
   "execution_count": 1,
   "id": "f7117f29",
   "metadata": {},
   "outputs": [],
   "source": [
    "import pandas as pd\n",
    "import numpy as np\n",
    "import matplotlib.pyplot as plt\n",
    "import seaborn as sns"
   ]
  },
  {
   "cell_type": "markdown",
   "id": "be4efcac",
   "metadata": {},
   "source": [
    "Next we read the cvs data we will be using in this report:\n",
    "        \n",
    "        - netflix1.csv \n",
    "               - https://www.kaggle.com/datasets/infamouscoder/dataset-netflix-shows\n",
    "        - Netflix_Dataset_Movie.csv and Netflix_Dataset_Rating.csv\n",
    "               - https://www.kaggle.com/datasets/rishitjavia/netflix-movie-rating-dataset"
   ]
  },
  {
   "cell_type": "code",
   "execution_count": 2,
   "id": "c052610e",
   "metadata": {},
   "outputs": [],
   "source": [
    "df = pd.read_csv(\"netflix1.csv\")\n",
    "df2 = pd.read_csv(\"Netflix_Dataset_Movie.csv\")\n",
    "df3 = pd.read_csv(\"Netflix_Dataset_Rating.csv\")"
   ]
  },
  {
   "cell_type": "markdown",
   "id": "93a15a00",
   "metadata": {},
   "source": [
    "# Exploratory Analysis"
   ]
  },
  {
   "cell_type": "markdown",
   "id": "c760922c",
   "metadata": {},
   "source": [
    "### Checking for Null Values"
   ]
  },
  {
   "cell_type": "code",
   "execution_count": 3,
   "id": "35d37bda",
   "metadata": {},
   "outputs": [
    {
     "data": {
      "text/plain": [
       "User_ID     0\n",
       "Rating      0\n",
       "Movie_ID    0\n",
       "dtype: int64"
      ]
     },
     "execution_count": 3,
     "metadata": {},
     "output_type": "execute_result"
    }
   ],
   "source": [
    "df[df.isnull()].count()\n",
    "df2[df2.isnull()].count()\n",
    "df3[df3.isnull()].count()"
   ]
  },
  {
   "cell_type": "markdown",
   "id": "7fca882d",
   "metadata": {},
   "source": [
    "We determine that none of the dataframes have null values, and we have chosen to continues on to merging th dataframes in order to see the relationships between all of the data."
   ]
  },
  {
   "cell_type": "markdown",
   "id": "8db66ee8",
   "metadata": {},
   "source": [
    "### Merging the Dataframes"
   ]
  },
  {
   "cell_type": "markdown",
   "id": "c5466f50",
   "metadata": {},
   "source": [
    "To start we merge the df2 and df3 dataframes containing \"Netflix_Dataset_Movie.csv\" and \"Netflix_Dataset_Rating.csv\" respectivly."
   ]
  },
  {
   "cell_type": "code",
   "execution_count": 4,
   "id": "a68e818f",
   "metadata": {},
   "outputs": [],
   "source": [
    "df_ratings = df2.merge(df3)"
   ]
  },
  {
   "cell_type": "markdown",
   "id": "18d8982f",
   "metadata": {},
   "source": [
    "Next we merge the df_ratings dataframe from above, with the df dataframe containing \"netflix1.csv\" data, but first we change the names of the df_ratings columns to the ones that match the netflix rating to allow them to merge successfully."
   ]
  },
  {
   "cell_type": "code",
   "execution_count": 5,
   "id": "b8780933",
   "metadata": {},
   "outputs": [],
   "source": [
    "df_ratings = df_ratings.rename(columns={\"Name\": \"title\", \"Rating\": \"user_rating\"})\n",
    "df = pd.merge(df, df_ratings)"
   ]
  },
  {
   "cell_type": "markdown",
   "id": "c65211e0",
   "metadata": {},
   "source": [
    "### Manipulating Data"
   ]
  },
  {
   "cell_type": "markdown",
   "id": "f3ee7fe3",
   "metadata": {},
   "source": [
    "Next we change Type to a Nominal variable \"is_movie\" where 0 is not a movie and 1 is a movie."
   ]
  },
  {
   "cell_type": "code",
   "execution_count": 6,
   "id": "64236d0c",
   "metadata": {},
   "outputs": [],
   "source": [
    "df[\"is_movie\"] = [1 if i == \"Movie\" else 0 for i in df[\"type\"]]"
   ]
  },
  {
   "cell_type": "markdown",
   "id": "758eab57",
   "metadata": {},
   "source": [
    "Next we convert the first item in \"listed_in\" to a new column \"genres\", we keep the first one because we assume it is the most important."
   ]
  },
  {
   "cell_type": "code",
   "execution_count": 7,
   "id": "cbbf2c41",
   "metadata": {},
   "outputs": [],
   "source": [
    "list_genres = []\n",
    "\n",
    "for i in range(len(df)):\n",
    "    list_genres.append(df[\"listed_in\"].iloc[i].split(\", \")[0])\n",
    "    \n",
    "df[\"genres\"] = pd.Series(list_genres)"
   ]
  },
  {
   "cell_type": "markdown",
   "id": "f9bf0e94",
   "metadata": {},
   "source": [
    "Next we remove the minutes units from all movies and remove times from anything not labled as a movie."
   ]
  },
  {
   "cell_type": "code",
   "execution_count": 8,
   "id": "cdf0022d",
   "metadata": {},
   "outputs": [],
   "source": [
    "duration = []\n",
    "\n",
    "for i in range(len(df)):\n",
    "    if df[\"is_movie\"].iloc[i]==1:\n",
    "        duration.append(int(df[\"duration\"].iloc[i][:-4]))\n",
    "    else:\n",
    "        duration.append(1)\n",
    "        \n",
    "df[\"duration\"] = pd.Series(duration)"
   ]
  },
  {
   "cell_type": "markdown",
   "id": "c5a7994d",
   "metadata": {},
   "source": [
    "### Frequency Distributions"
   ]
  },
  {
   "cell_type": "code",
   "execution_count": null,
   "id": "358676a0",
   "metadata": {
    "scrolled": false
   },
   "outputs": [],
   "source": [
    "plt.figure(figsize=(100, 50))\n",
    "plt.hist(df[\"release_year\"], bins = 16, edgecolor='white', linewidth=10)\n",
    "plt.title('Number of Movies Released per 5 Years', fontsize = 150)\n",
    "plt.tick_params(axis = 'both', which = 'major', labelsize = 75)\n",
    "plt.xticks([i for i in range(1940, 2021, 5)])\n",
    "plt.yticks([100000, 200000, 300000, 400000, 500000, 600000, 700000], [\"100k\", \"200k\", \"300k\", \"400k\", \"500k\", \"600k\", \"700k\"])\n",
    "plt.xlabel(\"Year Released\", fontsize = 150)\n",
    "plt.ylabel(\"Number of Movies\", fontsize = 150, rotation = 90)\n",
    "plt.show()"
   ]
  },
  {
   "cell_type": "code",
   "execution_count": null,
   "id": "fdb9a8c7",
   "metadata": {},
   "outputs": [],
   "source": [
    "plt.figure(figsize=(100, 50))\n",
    "plt.hist(df[\"duration\"], bins = 30, edgecolor='white', linewidth=10)\n",
    "plt.title('Number of Movies by Length', fontsize = 150)\n",
    "plt.tick_params(axis = 'both', which = 'major', labelsize = 75)\n",
    "plt.xticks([60, 80, 100, 120, 140, 160, 180, 200])\n",
    "plt.yticks([50000, 100000, 150000, 200000, 250000, 300000, 350000, 400000], [\"50k\", \"100k\", \"150k\", \"200k\", \"250k\", \"300k\", \"350k\", \"400k\"])\n",
    "plt.xlabel(\"Length of Movie (in minutes)\", fontsize = 150)\n",
    "plt.ylabel(\"Number of Movies\", fontsize = 150, rotation = 90)\n",
    "plt.xlim(60, 200)\n",
    "plt.show()"
   ]
  },
  {
   "cell_type": "code",
   "execution_count": null,
   "id": "1bf52412",
   "metadata": {},
   "outputs": [],
   "source": [
    "plt.figure(figsize=(100, 50))\n",
    "values, bins, bars = plt.hist(df[\"is_movie\"], bins=3)\n",
    "plt.title('Number of T.V. Shows to Number of Movies', fontsize = 150)\n",
    "plt.xticks([0.15, 0.5, 0.85], [\"TV Shows\", '', \"Movies\"], fontsize = 150)\n",
    "plt.bar_label(bars, [\"329,708\", \"\", \"1,991,734\"], fontsize=150, color='black')\n",
    "plt.tick_params(left = False, right = False , labelleft = False)\n",
    "plt.show()"
   ]
  },
  {
   "cell_type": "code",
   "execution_count": null,
   "id": "9d82ea68",
   "metadata": {},
   "outputs": [],
   "source": [
    "plt.figure(figsize=(100, 50))\n",
    "values, bins, bars = plt.hist(df[\"user_rating\"], bins = 5, edgecolor='white', linewidth=10)\n",
    "plt.title('Number of Movie Ratings (1 to 5 Stars)', fontsize = 150)\n",
    "plt.bar_label(bars, [\"1★: 96,324\", \"2★: 244,357\", \"3★: 716,807\", \"4★: 804,527\", \"5★: 459,427\"], fontsize=150, color='black')\n",
    "plt.tick_params(left = False, right = False , labelleft = False)\n",
    "plt.show()"
   ]
  },
  {
   "cell_type": "code",
   "execution_count": null,
   "id": "fe4e76ad",
   "metadata": {},
   "outputs": [],
   "source": [
    "country_count = df.groupby(\"country\").count().sort_values(\"title\", ascending = False)\n",
    "plt.figure(figsize=(10, 10))\n",
    "plt.pie(country_count[\"title\"].iloc[0:30], autopct = lambda v: f'{v:.2f}%' if v > 2.5 else None, colors = ['#a9a9a9', '#2f4f4f', '#556b2f', '#228b22', '#8b0000', '#808000', '#483d8b', '#bdb76b', '#008b8b', '#00008b', '#7f007f', '#b03060', '#66cdaa', '#ff4500', '#ffa500', '#ffff00', '#00ff00', '#9400d3', '#00ff7f', '#dc143c', '#00ffff', '#00bfff', '#f4a460', '#0000ff', '#adff2f', '#ff00ff', '#fa8072', '#6495ed', '#dda0dd', '#90ee90', '#ff1493', '#7b68ee', '#afeeee', '#ee82ee', '#ffe4c4', '#ffb6c1'].reverse())\n",
    "ax = plt.subplot()\n",
    "plt.title('Movies Produced by Region', fontsize = 25)\n",
    "ax.legend(country_count['title'].iloc[0:30].index, bbox_to_anchor=(1.1, 1.05))\n",
    "plt.show()"
   ]
  },
  {
   "cell_type": "code",
   "execution_count": null,
   "id": "86b4400e",
   "metadata": {},
   "outputs": [],
   "source": [
    "plt.figure(figsize=(10, 10))\n",
    "plt.pie(df.groupby(\"genres\").count().sort_values(\"title\", ascending=False)[\"title\"], autopct = lambda v: f'{v:.2f}%' if v > 2.5 else None, colors=['#a9a9a9', '#2f4f4f', '#556b2f', '#228b22', '#8b0000', '#808000', '#483d8b', '#bdb76b', '#008b8b', '#00008b', '#7f007f', '#b03060', '#66cdaa', '#ff4500', '#ffa500', '#ffff00', '#00ff00', '#9400d3', '#00ff7f', '#dc143c', '#00ffff', '#00bfff', '#f4a460', '#0000ff', '#adff2f', '#ff00ff', '#fa8072', '#6495ed', '#dda0dd', '#90ee90', '#ff1493', '#7b68ee', '#afeeee', '#ee82ee', '#ffe4c4', '#ffb6c1'])\n",
    "ax = plt.subplot()\n",
    "plt.title('Movies by Primary Genre', fontsize = 25)\n",
    "ax.legend(df.groupby(\"genres\").count().sort_values(\"title\", ascending=False).index, bbox_to_anchor=(1.1, 1.05))\n",
    "plt.show()"
   ]
  },
  {
   "cell_type": "code",
   "execution_count": null,
   "id": "73227fa3",
   "metadata": {},
   "outputs": [],
   "source": [
    "plt.figure(figsize=(10,10))\n",
    "plt.pie(df.groupby(\"rating\").count().sort_values(\"title\", ascending=False)[\"title\"], autopct = lambda v: f'{v:.2f}%' if v > 2.5 else None, colors=['#a9a9a9', '#2f4f4f', '#556b2f', '#228b22', '#8b0000', '#808000', '#483d8b', '#bdb76b', '#008b8b', '#00008b', '#7f007f', '#b03060', '#66cdaa', '#ff4500', '#ffa500', '#ffff00', '#00ff00', '#9400d3', '#00ff7f', '#dc143c', '#00ffff', '#00bfff', '#f4a460', '#0000ff', '#adff2f', '#ff00ff', '#fa8072', '#6495ed', '#dda0dd', '#90ee90', '#ff1493', '#7b68ee', '#afeeee', '#ee82ee', '#ffe4c4', '#ffb6c1'])\n",
    "ax = plt.subplot()\n",
    "plt.title('Movies by MPAA Rating', fontsize = 25)\n",
    "ax.legend(df.groupby(\"rating\").count().sort_values(\"title\", ascending=False).index, bbox_to_anchor=(1.1, 1.05))\n",
    "plt.show()"
   ]
  },
  {
   "cell_type": "markdown",
   "id": "adf5b623",
   "metadata": {},
   "source": [
    "### Correlation Heatmap"
   ]
  },
  {
   "cell_type": "code",
   "execution_count": null,
   "id": "080d0ce6",
   "metadata": {},
   "outputs": [],
   "source": [
    "f = plt.figure(figsize=(19, 15))\n",
    "plt.matshow(df.corr(), fignum = f.number)\n",
    "plt.xticks(range(df.select_dtypes(['number']).shape[1]), df.select_dtypes(['number']).columns, fontsize = 14, rotation = 45)\n",
    "plt.yticks(range(df.select_dtypes(['number']).shape[1]), df.select_dtypes(['number']).columns, fontsize = 14)\n",
    "cb = plt.colorbar()\n",
    "cb.ax.tick_params(labelsize = 14)\n",
    "plt.title('Correlation Matrix', fontsize = 16);"
   ]
  },
  {
   "cell_type": "markdown",
   "id": "9bb363c5",
   "metadata": {},
   "source": [
    "There are very few correlations between the data present in the correlation matrix, besides the obvious correlations (release_year and Year are duplicate variables, is_movie and duration correlate because only movies have a duration, Movie_ID and release_year correlate because Movie_ID increases linearly as movies release). Relationships between other variables are negligible, both positively and negatively."
   ]
  },
  {
   "cell_type": "markdown",
   "id": "040df1fe",
   "metadata": {},
   "source": [
    "### Simplifying Data"
   ]
  },
  {
   "cell_type": "code",
   "execution_count": null,
   "id": "0de1c560",
   "metadata": {},
   "outputs": [],
   "source": [
    "# First we drop \"show_id\" and \"Movie_ID\" from the dataframe because the information is irrelevant\n",
    "# We also drop \"Year\" due to the data being a duplicate of \"release_year\"\n",
    "df.drop([\"show_id\", \"Movie_ID\", \"Year\"], axis = 1, inplace = True)\n",
    "\n",
    "# Next we drop \"date_added\" because we assume that it does not correlate with \"user_rating\"\n",
    "df.drop([\"date_added\"], axis = 1, inplace = True)\n",
    "\n",
    "# Next we drop \"type\" because the information is a duplicate of \"is_movie\"\n",
    "df.drop(\"type\", axis = 1, inplace = True)\n",
    "\n",
    "# Finally we remove all rows where \"is_movie\" is equal to 0, leaving only movies in the dataframe\n",
    "# We also drop the column \"is_movie\" due to it only being true and therefore redundant\n",
    "df = df[df[\"is_movie\"] == 1]\n",
    "df.drop([\"is_movie\"], axis = 1, inplace = True)"
   ]
  },
  {
   "cell_type": "markdown",
   "id": "8b36f07f",
   "metadata": {},
   "source": [
    "## Conclusion"
   ]
  },
  {
   "cell_type": "markdown",
   "id": "48d83022",
   "metadata": {},
   "source": [
    "The data available in the datasets used for this exploratory analysis provides us with various data points that can be used in developing a recommender system. Since the data skews heavily towards movies, T.V. shows were not going to be properly recommended, so were subsequently dropped from the data frame. The most important data gathered are the \"genre,\" \"rating,\" \"region,\" which can be used to recommend highly rated movies of similar genres and from similar regions. No unexpected patterns or relationships were found in this exploratory analysis, and neither were any anomalies or outliers."
   ]
  },
  {
   "cell_type": "markdown",
   "id": "156a4e68",
   "metadata": {},
   "source": [
    "## NOTE: Give us a conclusion Daniel and Cade"
   ]
  }
 ],
 "metadata": {
  "kernelspec": {
   "display_name": "Python 3 (ipykernel)",
   "language": "python",
   "name": "python3"
  },
  "language_info": {
   "codemirror_mode": {
    "name": "ipython",
    "version": 3
   },
   "file_extension": ".py",
   "mimetype": "text/x-python",
   "name": "python",
   "nbconvert_exporter": "python",
   "pygments_lexer": "ipython3",
   "version": "3.9.7"
  },
  "vscode": {
   "interpreter": {
    "hash": "aee8b7b246df8f9039afb4144a1f6fd8d2ca17a180786b69acc140d282b71a49"
   }
  }
 },
 "nbformat": 4,
 "nbformat_minor": 5
}
